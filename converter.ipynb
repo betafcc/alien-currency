{
 "cells": [
  {
   "cell_type": "code",
   "execution_count": 1,
   "metadata": {},
   "outputs": [],
   "source": [
    "import operator\n",
    "from toolz import pipe, curried\n",
    "from toolz import sliding_window\n",
    "import itertools\n",
    "import collections\n",
    "from itertools import zip_longest\n",
    "from functools import reduce"
   ]
  },
  {
   "cell_type": "code",
   "execution_count": 2,
   "metadata": {},
   "outputs": [],
   "source": [
    "def sub(it):\n",
    "    return reduce(operator.sub, it)"
   ]
  },
  {
   "cell_type": "code",
   "execution_count": 3,
   "metadata": {},
   "outputs": [],
   "source": [
    "roman = {\n",
    "    'I': 1,\n",
    "    'V': 5,\n",
    "    'X': 10,\n",
    "    'L': 50,\n",
    "    'C': 100,\n",
    "    'D': 500,\n",
    "    'M': 1000\n",
    "}"
   ]
  },
  {
   "cell_type": "code",
   "execution_count": 4,
   "metadata": {},
   "outputs": [],
   "source": [
    "def converter(num):\n",
    "    ordered = sorted(list(roman.items()), key=lambda t: t[1], reverse=True)\n",
    "    \n",
    "    acc = []\n",
    "    value = num\n",
    "    for symbol, weight in ordered:\n",
    "        quot, value = divmod(value, weight)\n",
    "        acc.append(symbol * quot)\n",
    "\n",
    "    return ''.join(acc)"
   ]
  },
  {
   "cell_type": "code",
   "execution_count": 5,
   "metadata": {},
   "outputs": [],
   "source": [
    "def roman_to_indo(num: str):\n",
    "    return pipe(\n",
    "        num,\n",
    "        chunk_roman,\n",
    "        curried.map(reversed),\n",
    "        curried.map(list),\n",
    "        curried.map(maybe_sum),\n",
    "        curried.map(sub),\n",
    "        sum,\n",
    "    )\n",
    "\n",
    "\n",
    "def maybe_sum(it):\n",
    "    it = list(it)\n",
    "    if reduce(lambda acc, n: acc == n, it):\n",
    "        return [sum(it)]\n",
    "    else:\n",
    "        return it\n",
    "\n",
    "def transliterate(num: str):\n",
    "    return [roman[letter] for letter in num]\n",
    "\n",
    "def chunk_roman(num):\n",
    "    return list(consume(lambda a, b: b < a, transliterate(num)))\n",
    "\n",
    "def consume(condition, it):\n",
    "    acc = []\n",
    "    for a, b in sliding_window(2, it):\n",
    "        if condition(a, b):\n",
    "            yield [*acc, a]\n",
    "            acc = []\n",
    "        else:\n",
    "            acc.append(a)\n",
    "    yield [*acc, b]"
   ]
  },
  {
   "cell_type": "code",
   "execution_count": 6,
   "metadata": {},
   "outputs": [],
   "source": [
    "tests = [\n",
    "    (\"MMVI\", 2006),\n",
    "    (\"MCMXLIV\", 1944),\n",
    "    (\"M\", 1000),\n",
    "    (\"CM\", 900),\n",
    "    (\"III\", 3),\n",
    "    (\"MCMIII\", 1903)\n",
    "]"
   ]
  },
  {
   "cell_type": "code",
   "execution_count": 7,
   "metadata": {},
   "outputs": [
    {
     "data": {
      "text/plain": [
       "1006"
      ]
     },
     "execution_count": 7,
     "metadata": {},
     "output_type": "execute_result"
    }
   ],
   "source": [
    "roman_to_indo(\"CMCVI\")"
   ]
  },
  {
   "cell_type": "code",
   "execution_count": null,
   "metadata": {},
   "outputs": [],
   "source": []
  },
  {
   "cell_type": "code",
   "execution_count": null,
   "metadata": {},
   "outputs": [],
   "source": []
  }
 ],
 "metadata": {
  "kernelspec": {
   "display_name": "Python 3",
   "language": "python",
   "name": "python3"
  },
  "language_info": {
   "codemirror_mode": {
    "name": "ipython",
    "version": 3
   },
   "file_extension": ".py",
   "mimetype": "text/x-python",
   "name": "python",
   "nbconvert_exporter": "python",
   "pygments_lexer": "ipython3",
   "version": "3.7.1"
  }
 },
 "nbformat": 4,
 "nbformat_minor": 2
}
