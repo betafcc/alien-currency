{
 "cells": [
  {
   "cell_type": "code",
   "execution_count": 24,
   "metadata": {},
   "outputs": [],
   "source": [
    "from toolz import sliding_window\n",
    "\n",
    "\n",
    "def from_roman_like(nums_dict: dict, num: str) -> int:\n",
    "    return sum(-a if a < b else a for a, b in sliding_window(2, map(nums_dict.get, num + num[-1])))\n",
    "\n",
    "\n",
    "roman_dict = {\n",
    "    'I': 1,\n",
    "    'V': 5,\n",
    "    'X': 10,\n",
    "    'L': 50,\n",
    "    'C': 100,\n",
    "    'D': 500,\n",
    "    'M': 1000\n",
    "}\n",
    "\n",
    "tests = [\n",
    "    (\"MMVI\", 2006),\n",
    "    (\"MCMXLIV\", 1944),\n",
    "    (\"M\", 1000),\n",
    "    (\"CM\", 900),\n",
    "    (\"III\", 3),\n",
    "    (\"MCMIII\", 1903),\n",
    "    (\"MCMIII\", 1903)\n",
    "]\n",
    "\n",
    "\n",
    "for roman_num, arabic_num in tests:\n",
    "    assert from_roman_like(roman_dict, roman_num) == arabic_num"
   ]
  },
  {
   "cell_type": "code",
   "execution_count": null,
   "metadata": {},
   "outputs": [],
   "source": []
  },
  {
   "cell_type": "code",
   "execution_count": null,
   "metadata": {},
   "outputs": [],
   "source": []
  },
  {
   "cell_type": "code",
   "execution_count": null,
   "metadata": {},
   "outputs": [],
   "source": []
  }
 ],
 "metadata": {
  "kernelspec": {
   "display_name": "Python 3",
   "language": "python",
   "name": "python3"
  },
  "language_info": {
   "codemirror_mode": {
    "name": "ipython",
    "version": 3
   },
   "file_extension": ".py",
   "mimetype": "text/x-python",
   "name": "python",
   "nbconvert_exporter": "python",
   "pygments_lexer": "ipython3",
   "version": "3.7.1"
  }
 },
 "nbformat": 4,
 "nbformat_minor": 2
}
